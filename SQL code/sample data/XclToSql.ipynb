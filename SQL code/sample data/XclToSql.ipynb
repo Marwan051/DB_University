{
 "cells": [
  {
   "cell_type": "code",
   "execution_count": 1,
   "metadata": {},
   "outputs": [],
   "source": [
    "import pandas as pd"
   ]
  },
  {
   "cell_type": "code",
   "execution_count": 4,
   "metadata": {},
   "outputs": [
    {
     "name": "stdout",
     "output_type": "stream",
     "text": [
      "insert into table department values ((Data Science, 200, 1), (Ai, 201, 2), (Cyber Security, 202, 3), (Business, 203, 4), (Medical Care, 204, 5);\n"
     ]
    }
   ],
   "source": [
    "department = pd.read_excel('main-database.xlsx', sheet_name='Department')\n",
    "department.head()\n",
    "dep_sql = 'insert into table department values ('\n",
    "for i in range(len(department)):\n",
    "    dep_sql += '('\n",
    "    for j in range(len(department.columns)):\n",
    "        if j == 0:\n",
    "            dep_sql += str(department.iloc[i, j])\n",
    "        else:\n",
    "            dep_sql += ', ' + str(department.iloc[i, j])\n",
    "    dep_sql += '), '\n",
    "dep_sql = dep_sql[:-2] + ');'\n",
    "print(dep_sql)"
   ]
  },
  {
   "cell_type": "code",
   "execution_count": null,
   "metadata": {},
   "outputs": [],
   "source": []
  },
  {
   "cell_type": "code",
   "execution_count": 2,
   "metadata": {},
   "outputs": [
    {
     "data": {
      "text/html": [
       "<div>\n",
       "<style scoped>\n",
       "    .dataframe tbody tr th:only-of-type {\n",
       "        vertical-align: middle;\n",
       "    }\n",
       "\n",
       "    .dataframe tbody tr th {\n",
       "        vertical-align: top;\n",
       "    }\n",
       "\n",
       "    .dataframe thead th {\n",
       "        text-align: right;\n",
       "    }\n",
       "</style>\n",
       "<table border=\"1\" class=\"dataframe\">\n",
       "  <thead>\n",
       "    <tr style=\"text-align: right;\">\n",
       "      <th></th>\n",
       "      <th>FName</th>\n",
       "      <th>LName</th>\n",
       "      <th>std_id</th>\n",
       "      <th>Acadimic_year</th>\n",
       "      <th>student_Email</th>\n",
       "    </tr>\n",
       "  </thead>\n",
       "  <tbody>\n",
       "    <tr>\n",
       "      <th>0</th>\n",
       "      <td>Ahmed</td>\n",
       "      <td>Nagy</td>\n",
       "      <td>1001</td>\n",
       "      <td>1</td>\n",
       "      <td>ahmednagy@gmail.com</td>\n",
       "    </tr>\n",
       "    <tr>\n",
       "      <th>1</th>\n",
       "      <td>Mohamed</td>\n",
       "      <td>Nasef</td>\n",
       "      <td>2001</td>\n",
       "      <td>2</td>\n",
       "      <td>mohamednasef@gmail.com</td>\n",
       "    </tr>\n",
       "    <tr>\n",
       "      <th>2</th>\n",
       "      <td>Mahmoud</td>\n",
       "      <td>Abd Elrheem</td>\n",
       "      <td>3001</td>\n",
       "      <td>3</td>\n",
       "      <td>mahmoudabd elrheem@gmail.com</td>\n",
       "    </tr>\n",
       "    <tr>\n",
       "      <th>3</th>\n",
       "      <td>Mostafa</td>\n",
       "      <td>Abd Alla</td>\n",
       "      <td>4001</td>\n",
       "      <td>4</td>\n",
       "      <td>mostafaabd alla@gmail.com</td>\n",
       "    </tr>\n",
       "    <tr>\n",
       "      <th>4</th>\n",
       "      <td>Ali</td>\n",
       "      <td>Abd Alrahman</td>\n",
       "      <td>1002</td>\n",
       "      <td>1</td>\n",
       "      <td>aliabd alrahman@gmail.com</td>\n",
       "    </tr>\n",
       "  </tbody>\n",
       "</table>\n",
       "</div>"
      ],
      "text/plain": [
       "     FName         LName  std_id  Acadimic_year                 student_Email\n",
       "0    Ahmed          Nagy    1001              1           ahmednagy@gmail.com\n",
       "1  Mohamed         Nasef    2001              2        mohamednasef@gmail.com\n",
       "2  Mahmoud   Abd Elrheem    3001              3  mahmoudabd elrheem@gmail.com\n",
       "3  Mostafa      Abd Alla    4001              4     mostafaabd alla@gmail.com\n",
       "4      Ali  Abd Alrahman    1002              1     aliabd alrahman@gmail.com"
      ]
     },
     "execution_count": 2,
     "metadata": {},
     "output_type": "execute_result"
    }
   ],
   "source": [
    "student = pd.read_excel('main-database.xlsx', sheet_name='student')\n",
    "student.head()"
   ]
  }
 ],
 "metadata": {
  "kernelspec": {
   "display_name": "nlp_env",
   "language": "python",
   "name": "python3"
  },
  "language_info": {
   "codemirror_mode": {
    "name": "ipython",
    "version": 3
   },
   "file_extension": ".py",
   "mimetype": "text/x-python",
   "name": "python",
   "nbconvert_exporter": "python",
   "pygments_lexer": "ipython3",
   "version": "3.11.4"
  }
 },
 "nbformat": 4,
 "nbformat_minor": 2
}
